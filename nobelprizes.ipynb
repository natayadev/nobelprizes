{
  "nbformat": 4,
  "nbformat_minor": 0,
  "metadata": {
    "colab": {
      "provenance": []
    },
    "kernelspec": {
      "name": "python3",
      "display_name": "Python 3"
    },
    "language_info": {
      "name": "python"
    }
  },
  "cells": [
    {
      "cell_type": "markdown",
      "source": [
        "# Premios Nobel\n",
        "### EDA básico con PySpark que consume la API de los Premios Nobel."
      ],
      "metadata": {
        "id": "B1dmRAN-6j6_"
      }
    },
    {
      "cell_type": "markdown",
      "source": [
        "Instalamos `pyspark` en nuestra Notebook, usamos la flag `-q` o `--quiet` para evitar ver los mensajes relacionados con la descarga e instalación de la herramienta."
      ],
      "metadata": {
        "id": "qdY5cNwo6Wva"
      }
    },
    {
      "cell_type": "code",
      "execution_count": null,
      "metadata": {
        "id": "h6jK78q60mjJ"
      },
      "outputs": [],
      "source": [
        "!pip install -q pyspark"
      ]
    },
    {
      "cell_type": "markdown",
      "source": [
        "Creamos una SparkSession con el nombre del proyecto."
      ],
      "metadata": {
        "id": "BBH7A2h76b-O"
      }
    },
    {
      "cell_type": "code",
      "source": [
        "from pyspark.sql import SparkSession\n",
        "\n",
        "spark = SparkSession.builder \\\n",
        "    .appName(\"PremiosNobel\") \\\n",
        "    .getOrCreate()"
      ],
      "metadata": {
        "id": "qARa4uIUFaZR"
      },
      "execution_count": null,
      "outputs": []
    },
    {
      "cell_type": "markdown",
      "source": [
        "Usamos `requests` para leer la API de los Premios Nobel v1 y añadimos un manejo de errores básico, no es necesario instalarlo con `pip`."
      ],
      "metadata": {
        "id": "VITDFtSK7O0x"
      }
    },
    {
      "cell_type": "code",
      "source": [
        "import requests\n",
        "\n",
        "url = \"https://api.nobelprize.org/v1/laureate.json\"\n",
        "response = requests.get(url)\n",
        "\n",
        "if response.status_code == 200:\n",
        "    data = response.json()\n",
        "else:\n",
        "    raise Exception(f\"Error al obtener datos: {response.status_code}\")"
      ],
      "metadata": {
        "id": "o1izYVIdF9A7"
      },
      "execution_count": null,
      "outputs": []
    },
    {
      "cell_type": "markdown",
      "source": [
        "Creamos y visualizamos un DataFrame de Spark."
      ],
      "metadata": {
        "id": "Sx4TPOtZ7qf9"
      }
    },
    {
      "cell_type": "code",
      "source": [
        "laureates_df = spark.createDataFrame(data[\"laureates\"])\n",
        "laureates_df.show()"
      ],
      "metadata": {
        "colab": {
          "base_uri": "https://localhost:8080/"
        },
        "id": "K-W7thnfGbqG",
        "outputId": "34c5fe8b-f6b1-4002-d988-e533abd2f5a7"
      },
      "execution_count": null,
      "outputs": [
        {
          "output_type": "stream",
          "name": "stdout",
          "text": [
            "+----------+--------------------+--------------------+---------------+----------+------------+--------------------+---------------+----------------+------+---+--------------------+----------------+\n",
            "|      born|            bornCity|         bornCountry|bornCountryCode|      died|    diedCity|         diedCountry|diedCountryCode|       firstname|gender| id|              prizes|         surname|\n",
            "+----------+--------------------+--------------------+---------------+----------+------------+--------------------+---------------+----------------+------+---+--------------------+----------------+\n",
            "|1845-03-27|Lennep (now Remsc...|Prussia (now Germ...|             DE|1923-02-10|      Munich|             Germany|             DE|  Wilhelm Conrad|  male|  1|[{affiliations ->...|         Röntgen|\n",
            "|1853-07-18|              Arnhem|     the Netherlands|             NL|1928-02-04|        NULL|     the Netherlands|             NL|      Hendrik A.|  male|  2|[{affiliations ->...|         Lorentz|\n",
            "|1865-05-25|          Zonnemaire|     the Netherlands|             NL|1943-10-09|   Amsterdam|     the Netherlands|             NL|          Pieter|  male|  3|[{affiliations ->...|          Zeeman|\n",
            "|1852-12-15|               Paris|              France|             FR|1908-08-25|        NULL|              France|             FR|           Henri|  male|  4|[{affiliations ->...|       Becquerel|\n",
            "|1859-05-15|               Paris|              France|             FR|1906-04-19|       Paris|              France|             FR|          Pierre|  male|  5|[{affiliations ->...|           Curie|\n",
            "|1867-11-07|              Warsaw|Russian Empire (n...|             PL|1934-07-04|  Sallanches|              France|             FR|           Marie|female|  6|[{affiliations ->...|           Curie|\n",
            "|1842-11-12|Langford Grove, M...|      United Kingdom|             GB|1919-06-30|        NULL|      United Kingdom|             GB|            Lord|  male|  8|[{affiliations ->...|        Rayleigh|\n",
            "|1862-06-07|Pressburg (now Br...|Hungary (now Slov...|             SK|1947-05-20|Messelhausen|             Germany|             DE|         Philipp|  male|  9|[{affiliations ->...|          Lenard|\n",
            "|1856-12-18|       Cheetham Hill|      United Kingdom|             GB|1940-08-30|   Cambridge|      United Kingdom|             GB|            J.J.|  male| 10|[{affiliations ->...|         Thomson|\n",
            "|1852-12-19|Strelno (now Strz...|Prussia (now Poland)|             PL|1931-05-09|Pasadena, CA|                 USA|             US|       Albert A.|  male| 11|[{affiliations ->...|       Michelson|\n",
            "|1845-08-16|           Hollerich|          Luxembourg|             LU|1921-07-13|        NULL|                NULL|           NULL|         Gabriel|  male| 12|[{affiliations ->...|        Lippmann|\n",
            "|1874-04-25|             Bologna|               Italy|             IT|1937-07-20|        Rome|               Italy|             IT|       Guglielmo|  male| 13|[{affiliations ->...|         Marconi|\n",
            "|1850-06-06|               Fulda|Hesse-Kassel (now...|             DE|1918-04-20|Brooklyn, NY|                 USA|             US|       Ferdinand|  male| 14|[{affiliations ->...|           Braun|\n",
            "|1837-11-23|              Leiden|     the Netherlands|             NL|1923-03-08|   Amsterdam|     the Netherlands|             NL|Johannes Diderik|  male| 15|[{affiliations ->...|   van der Waals|\n",
            "|1864-01-13|Gaffken (now Paru...|Prussia (now Russia)|             RU|1928-08-30|      Munich|             Germany|             DE|         Wilhelm|  male| 16|[{affiliations ->...|            Wien|\n",
            "|1869-11-30|           Stenstorp|              Sweden|             SE|1937-12-09|   Stockholm|              Sweden|             SE|          Gustaf|  male| 17|[{affiliations ->...|           Dalén|\n",
            "|1853-09-21|           Groningen|     the Netherlands|             NL|1926-02-21|      Leiden|     the Netherlands|             NL|           Heike|  male| 18|[{affiliations ->...|Kamerlingh Onnes|\n",
            "|1879-10-09|         Pfaffendorf|             Germany|             DE|1960-04-23|      Berlin|West Germany (now...|             DE|             Max|  male| 19|[{affiliations ->...|        von Laue|\n",
            "|1862-07-02|              Wigton|      United Kingdom|             GB|1942-03-12|      London|      United Kingdom|             GB|         William|  male| 20|[{affiliations ->...|           Bragg|\n",
            "|1890-03-31|            Adelaide|           Australia|             AU|1971-07-01|     Ipswich|      United Kingdom|             GB|        Lawrence|  male| 21|[{affiliations ->...|           Bragg|\n",
            "+----------+--------------------+--------------------+---------------+----------+------------+--------------------+---------------+----------------+------+---+--------------------+----------------+\n",
            "only showing top 20 rows\n",
            "\n"
          ]
        }
      ]
    },
    {
      "cell_type": "markdown",
      "source": [
        "Filtramos sólo las laureadas femeninas."
      ],
      "metadata": {
        "id": "nr8Xo_ez7xix"
      }
    },
    {
      "cell_type": "code",
      "source": [
        "females_df = laureates_df.filter(laureates_df.gender == \"female\")\n",
        "females_df.show()"
      ],
      "metadata": {
        "colab": {
          "base_uri": "https://localhost:8080/"
        },
        "id": "eZrIz6AGKF2g",
        "outputId": "6b8277b8-d482-489a-e43b-e9449d80c0ab"
      },
      "execution_count": null,
      "outputs": [
        {
          "output_type": "stream",
          "name": "stdout",
          "text": [
            "+----------+--------------------+--------------------+---------------+----------+-----------------+----------------+---------------+----------------+------+---+--------------------+----------------+\n",
            "|      born|            bornCity|         bornCountry|bornCountryCode|      died|         diedCity|     diedCountry|diedCountryCode|       firstname|gender| id|              prizes|         surname|\n",
            "+----------+--------------------+--------------------+---------------+----------+-----------------+----------------+---------------+----------------+------+---+--------------------+----------------+\n",
            "|1867-11-07|              Warsaw|Russian Empire (n...|             PL|1934-07-04|       Sallanches|          France|             FR|           Marie|female|  6|[{affiliations ->...|           Curie|\n",
            "|1906-06-28|Kattowitz (now Ka...|Germany (now Poland)|             PL|1972-02-20|    San Diego, CA|             USA|             US|           Maria|female| 79|[{affiliations ->...|  Goeppert Mayer|\n",
            "|1897-09-12|               Paris|              France|             FR|1956-03-17|            Paris|          France|             FR|           Irène|female|194|[{affiliations ->...|    Joliot-Curie|\n",
            "|1910-05-12|               Cairo|               Egypt|             EG|1994-07-29|Shipston-on-Stour|  United Kingdom|             GB|Dorothy Crowfoot|female|230|[{affiliations ->...|         Hodgkin|\n",
            "|1896-08-15|              Prague|Austria-Hungary (...|             CZ|1957-10-26|    St. Louis, MO|             USA|             US|           Gerty|female|344|[{affiliations ->...|            Cori|\n",
            "|1921-07-19|        New York, NY|                 USA|             US|2011-05-30|     New York, NY|             USA|             US|         Rosalyn|female|413|[{affiliations ->...|           Yalow|\n",
            "|1902-06-16|        Hartford, CT|                 USA|             US|1992-09-02|   Huntington, NY|             USA|             US|         Barbara|female|428|[{affiliations ->...|      McClintock|\n",
            "|1909-04-22|               Turin|               Italy|             IT|2012-12-30|             Rome|           Italy|             IT|            Rita|female|435|[{affiliations ->...| Levi-Montalcini|\n",
            "|1918-01-23|        New York, NY|                 USA|             US|1999-02-21|  Chapel Hill, NC|             USA|             US|     Gertrude B.|female|438|[{affiliations ->...|           Elion|\n",
            "|1942-10-20|           Magdeburg|             Germany|             DE|0000-00-00|             NULL|            NULL|           NULL|      Christiane|female|453|[{affiliations ->...|Nüsslein-Volhard|\n",
            "|1843-06-09|              Prague|Austrian Empire (...|             CZ|1914-06-21|           Vienna|         Austria|             AT|          Bertha|female|468|[{affiliations ->...|     von Suttner|\n",
            "|1860-09-06|      Cedarville, IL|                 USA|             US|1935-05-21|      Chicago, IL|             USA|             US|            Jane|female|496|[{affiliations ->...|          Addams|\n",
            "|1867-01-08|Jamaica Plain, MA...|                 USA|             US|1961-01-09|    Cambridge, MA|             USA|             US|    Emily Greene|female|506|[{affiliations ->...|           Balch|\n",
            "|1943-05-22|             Belfast|    Northern Ireland|             GB|2020-03-17|          Belfast|Northern Ireland|             GB|           Betty|female|535|[{affiliations ->...|        Williams|\n",
            "|1944-01-27|             Belfast|    Northern Ireland|             GB|0000-00-00|             NULL|            NULL|           NULL|         Mairead|female|536|[{affiliations ->...|        Corrigan|\n",
            "|1910-08-26|  Uskup (now Skopje)|Ottoman Empire (n...|             MK|1997-09-05|         Calcutta|           India|             IN|   Anjezë Gonxhe|female|540|[{affiliations ->...|        Bojaxhiu|\n",
            "|1902-01-31|             Uppsala|              Sweden|             SE|1986-02-01|        Stockholm|          Sweden|             SE|            Alva|female|543|[{affiliations ->...|          Myrdal|\n",
            "|1945-06-19|Rangoon (now Yangon)| Burma (now Myanmar)|             MM|0000-00-00|             NULL|            NULL|           NULL|Aung San Suu Kyi|female|553|[{affiliations ->...|            NULL|\n",
            "|1959-01-09|        Aldea Chimel|           Guatemala|             GT|0000-00-00|             NULL|            NULL|           NULL|       Rigoberta|female|554|[{affiliations ->...|      Menchú Tum|\n",
            "|1950-10-09|         Rutland, VT|                 USA|             US|0000-00-00|             NULL|            NULL|           NULL|            Jody|female|565|[{affiliations ->...|        Williams|\n",
            "+----------+--------------------+--------------------+---------------+----------+-----------------+----------------+---------------+----------------+------+---+--------------------+----------------+\n",
            "only showing top 20 rows\n",
            "\n"
          ]
        }
      ]
    },
    {
      "cell_type": "markdown",
      "source": [
        "Imprimimos el esquema de datos, cantidad de filas y columnas."
      ],
      "metadata": {
        "id": "1v-vI59d70Qr"
      }
    },
    {
      "cell_type": "code",
      "source": [
        "females_df.printSchema()\n",
        "print(f\"Filas: {females_df.count()}, Columnas: {len(females_df.columns)}\")"
      ],
      "metadata": {
        "colab": {
          "base_uri": "https://localhost:8080/"
        },
        "id": "wUz2Jlu5LXG6",
        "outputId": "232d6372-0887-4b6d-d0b5-7ec816212d4f"
      },
      "execution_count": null,
      "outputs": [
        {
          "output_type": "stream",
          "name": "stdout",
          "text": [
            "root\n",
            " |-- born: string (nullable = true)\n",
            " |-- bornCity: string (nullable = true)\n",
            " |-- bornCountry: string (nullable = true)\n",
            " |-- bornCountryCode: string (nullable = true)\n",
            " |-- died: string (nullable = true)\n",
            " |-- diedCity: string (nullable = true)\n",
            " |-- diedCountry: string (nullable = true)\n",
            " |-- diedCountryCode: string (nullable = true)\n",
            " |-- firstname: string (nullable = true)\n",
            " |-- gender: string (nullable = true)\n",
            " |-- id: string (nullable = true)\n",
            " |-- prizes: array (nullable = true)\n",
            " |    |-- element: map (containsNull = true)\n",
            " |    |    |-- key: string\n",
            " |    |    |-- value: string (valueContainsNull = true)\n",
            " |-- surname: string (nullable = true)\n",
            "\n",
            "Filas: 65, Columnas: 13\n"
          ]
        }
      ]
    },
    {
      "cell_type": "markdown",
      "source": [
        "Resumen estadístico de los datos."
      ],
      "metadata": {
        "id": "mK3YLwYy73lv"
      }
    },
    {
      "cell_type": "code",
      "source": [
        "females_df.describe().show()"
      ],
      "metadata": {
        "colab": {
          "base_uri": "https://localhost:8080/"
        },
        "id": "lj5T00O7M11A",
        "outputId": "d15223bd-28ad-406a-cd1d-9c2588999dcb"
      },
      "execution_count": null,
      "outputs": [
        {
          "output_type": "stream",
          "name": "stdout",
          "text": [
            "+-------+----------+---------------+-----------+---------------+----------+--------+--------------+---------------+---------+------+-----------------+-----------+\n",
            "|summary|      born|       bornCity|bornCountry|bornCountryCode|      died|diedCity|   diedCountry|diedCountryCode|firstname|gender|               id|    surname|\n",
            "+-------+----------+---------------+-----------+---------------+----------+--------+--------------+---------------+---------+------+-----------------+-----------+\n",
            "|  count|        65|             65|         65|             65|        65|      29|            29|             29|       65|    65|               65|         64|\n",
            "|   mean|      NULL|           NULL|       NULL|           NULL|      NULL|    NULL|          NULL|           NULL|     NULL|  NULL| 724.723076923077|       NULL|\n",
            "| stddev|      NULL|           NULL|       NULL|           NULL|      NULL|    NULL|          NULL|           NULL|     NULL|  NULL|254.8234994371293|       NULL|\n",
            "|    min|1843-06-09|   Aldea Chimel|  Australia|             AT|0000-00-00| Belfast|       Austria|             AT|   Ada E.|female|             1005|     Addams|\n",
            "|    max|1997-07-12|Zhejiang Ningbo|      Yemen|             ZA|2024-05-13|  Vienna|United Kingdom|             ZA|   Youyou|female|              993|von Suttner|\n",
            "+-------+----------+---------------+-----------+---------------+----------+--------+--------------+---------------+---------+------+-----------------+-----------+\n",
            "\n"
          ]
        }
      ]
    },
    {
      "cell_type": "markdown",
      "source": [
        "Hacemos un `distinct` por país de nacimiento de las premiadas."
      ],
      "metadata": {
        "id": "qyYzfUAZ79rC"
      }
    },
    {
      "cell_type": "code",
      "source": [
        "females_df.select(\"bornCountry\").distinct().show()"
      ],
      "metadata": {
        "colab": {
          "base_uri": "https://localhost:8080/"
        },
        "id": "iSGG4tRcNbYx",
        "outputId": "f294d7e0-9482-4aee-fb9e-3e0f93864d91"
      },
      "execution_count": null,
      "outputs": [
        {
          "output_type": "stream",
          "name": "stdout",
          "text": [
            "+--------------------+\n",
            "|         bornCountry|\n",
            "+--------------------+\n",
            "|Austria-Hungary (...|\n",
            "|Russian Empire (n...|\n",
            "|             Germany|\n",
            "|              France|\n",
            "|Austrian Empire (...|\n",
            "|               Italy|\n",
            "|Germany (now Poland)|\n",
            "|                 USA|\n",
            "|               Egypt|\n",
            "|               Yemen|\n",
            "|              Sweden|\n",
            "|         Philippines|\n",
            "|                Iraq|\n",
            "| Burma (now Myanmar)|\n",
            "|               China|\n",
            "|               Chile|\n",
            "|              Norway|\n",
            "|             Denmark|\n",
            "|                Iran|\n",
            "|             Ukraine|\n",
            "+--------------------+\n",
            "only showing top 20 rows\n",
            "\n"
          ]
        }
      ]
    },
    {
      "cell_type": "markdown",
      "source": [
        "Filtramos por un país de nacimiento y seleccionamos las columnas a visualizar."
      ],
      "metadata": {
        "id": "WWdcR2En8F-9"
      }
    },
    {
      "cell_type": "code",
      "source": [
        "filtered_df = females_df.select(\"bornCountry\", \"firstname\", \"surname\").filter(females_df.bornCountry == \"Chile\")\n",
        "filtered_df.show()"
      ],
      "metadata": {
        "colab": {
          "base_uri": "https://localhost:8080/"
        },
        "id": "kdXNPrGdOpTP",
        "outputId": "82b66c15-89f6-4dfd-8775-affcb2067098"
      },
      "execution_count": null,
      "outputs": [
        {
          "output_type": "stream",
          "name": "stdout",
          "text": [
            "+-----------+---------+-------+\n",
            "|bornCountry|firstname|surname|\n",
            "+-----------+---------+-------+\n",
            "|      Chile| Gabriela|Mistral|\n",
            "+-----------+---------+-------+\n",
            "\n"
          ]
        }
      ]
    },
    {
      "cell_type": "markdown",
      "source": [
        "Utilizamos las `udf` de Spark para convertir el formato de una columna a mayúsculas."
      ],
      "metadata": {
        "id": "gKSYl3sO8Vnv"
      }
    },
    {
      "cell_type": "code",
      "source": [
        "from pyspark.sql.functions import udf\n",
        "from pyspark.sql.types import StringType\n",
        "\n",
        "uppercase_udf = udf(lambda x: x.upper() if x is not None else None, StringType())\n",
        "df_upper = females_df.select(\"surname\", \"firstname\").withColumn(\"upper\", uppercase_udf(\"firstname\"))\n",
        "df_upper.show()"
      ],
      "metadata": {
        "colab": {
          "base_uri": "https://localhost:8080/"
        },
        "id": "hjmFDTmXQB3L",
        "outputId": "1eb9d969-99e0-4728-c428-d590dc8ae9b0"
      },
      "execution_count": null,
      "outputs": [
        {
          "output_type": "stream",
          "name": "stdout",
          "text": [
            "+----------------+----------------+----------------+\n",
            "|         surname|       firstname|           upper|\n",
            "+----------------+----------------+----------------+\n",
            "|           Curie|           Marie|           MARIE|\n",
            "|  Goeppert Mayer|           Maria|           MARIA|\n",
            "|    Joliot-Curie|           Irène|           IRÈNE|\n",
            "|         Hodgkin|Dorothy Crowfoot|DOROTHY CROWFOOT|\n",
            "|            Cori|           Gerty|           GERTY|\n",
            "|           Yalow|         Rosalyn|         ROSALYN|\n",
            "|      McClintock|         Barbara|         BARBARA|\n",
            "| Levi-Montalcini|            Rita|            RITA|\n",
            "|           Elion|     Gertrude B.|     GERTRUDE B.|\n",
            "|Nüsslein-Volhard|      Christiane|      CHRISTIANE|\n",
            "|     von Suttner|          Bertha|          BERTHA|\n",
            "|          Addams|            Jane|            JANE|\n",
            "|           Balch|    Emily Greene|    EMILY GREENE|\n",
            "|        Williams|           Betty|           BETTY|\n",
            "|        Corrigan|         Mairead|         MAIREAD|\n",
            "|        Bojaxhiu|   Anjezë Gonxhe|   ANJEZË GONXHE|\n",
            "|          Myrdal|            Alva|            ALVA|\n",
            "|            NULL|Aung San Suu Kyi|AUNG SAN SUU KYI|\n",
            "|      Menchú Tum|       Rigoberta|       RIGOBERTA|\n",
            "|        Williams|            Jody|            JODY|\n",
            "+----------------+----------------+----------------+\n",
            "only showing top 20 rows\n",
            "\n"
          ]
        }
      ]
    },
    {
      "cell_type": "markdown",
      "source": [
        "Creamos una vista temportal con Spark, también utilizamos la MAGIC %%time que nos provee Google Colab para medir el impacto de recursos al ejecutar la celda."
      ],
      "metadata": {
        "id": "Q-HJwHcY6J1l"
      }
    },
    {
      "cell_type": "code",
      "source": [
        "%%time\n",
        "females_df.createOrReplaceTempView(\"females_vw\")"
      ],
      "metadata": {
        "colab": {
          "base_uri": "https://localhost:8080/"
        },
        "id": "GkzQVJFhxZAI",
        "outputId": "557120f6-ba69-4438-8431-10d916ac738f"
      },
      "execution_count": null,
      "outputs": [
        {
          "output_type": "stream",
          "name": "stdout",
          "text": [
            "+--------------------+\n",
            "|         bornCountry|\n",
            "+--------------------+\n",
            "|Austria-Hungary (...|\n",
            "|Russian Empire (n...|\n",
            "|             Germany|\n",
            "|              France|\n",
            "|Austrian Empire (...|\n",
            "|               Italy|\n",
            "|Germany (now Poland)|\n",
            "|                 USA|\n",
            "|               Egypt|\n",
            "|               Yemen|\n",
            "|              Sweden|\n",
            "|         Philippines|\n",
            "|                Iraq|\n",
            "| Burma (now Myanmar)|\n",
            "|               China|\n",
            "|               Chile|\n",
            "|              Norway|\n",
            "|             Denmark|\n",
            "|                Iran|\n",
            "|             Ukraine|\n",
            "+--------------------+\n",
            "only showing top 20 rows\n",
            "\n",
            "CPU times: user 11.5 ms, sys: 937 µs, total: 12.4 ms\n",
            "Wall time: 1.03 s\n"
          ]
        }
      ]
    },
    {
      "cell_type": "markdown",
      "source": [
        "Realizamos la lectura de la vista temporal mediante lenguaje `sql`."
      ],
      "metadata": {
        "id": "YS9gwt0Z88VQ"
      }
    },
    {
      "cell_type": "code",
      "source": [
        "spark.sql(\"SELECT DISTINCT bornCountry FROM females_vw\").show()"
      ],
      "metadata": {
        "id": "MLpCfMXE88sq"
      },
      "execution_count": null,
      "outputs": []
    },
    {
      "cell_type": "markdown",
      "source": [
        "Podríamos hacer lo siguiente, pero solo funciona en Databricks o donde se pueda utilizar %sql como una MAGIC. Actualmente Google Colab y Jupyter no lo permiten."
      ],
      "metadata": {
        "id": "NcfjcUXh6DD-"
      }
    },
    {
      "cell_type": "code",
      "source": [
        "%sql\n",
        "SELECT DISTINCT bornCountry FROM females_vw"
      ],
      "metadata": {
        "colab": {
          "base_uri": "https://localhost:8080/",
          "height": 106
        },
        "id": "WWc7Aq81GaXn",
        "outputId": "013ecc17-4711-48ac-a709-559acee22722"
      },
      "execution_count": null,
      "outputs": [
        {
          "output_type": "error",
          "ename": "SyntaxError",
          "evalue": "invalid syntax (<ipython-input-22-358191dca53b>, line 2)",
          "traceback": [
            "\u001b[0;36m  File \u001b[0;32m\"<ipython-input-22-358191dca53b>\"\u001b[0;36m, line \u001b[0;32m2\u001b[0m\n\u001b[0;31m    SELECT DISTINCT bornCountry FROM females_vw\u001b[0m\n\u001b[0m           ^\u001b[0m\n\u001b[0;31mSyntaxError\u001b[0m\u001b[0;31m:\u001b[0m invalid syntax\n"
          ]
        }
      ]
    }
  ]
}
